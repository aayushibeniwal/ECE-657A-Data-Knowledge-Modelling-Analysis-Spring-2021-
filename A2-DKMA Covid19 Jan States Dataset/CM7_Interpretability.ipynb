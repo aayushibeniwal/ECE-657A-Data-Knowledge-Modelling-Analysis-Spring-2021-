{
 "cells": [
  {
   "cell_type": "markdown",
   "id": "2b8e571c",
   "metadata": {},
   "source": [
    "# [CM7] Interpretability"
   ]
  },
  {
   "cell_type": "markdown",
   "id": "a3921e55",
   "metadata": {},
   "source": [
    "## The implementation is done for the best hyper-parameters of naive bayes and decision trees using the original features"
   ]
  },
  {
   "cell_type": "code",
   "execution_count": 28,
   "id": "ccb81202",
   "metadata": {},
   "outputs": [],
   "source": [
    "import numpy as np\n",
    "import pandas as pd\n",
    "import matplotlib.pyplot as plt\n",
    "import seaborn as sns\n",
    "from sklearn.tree import DecisionTreeClassifier\n",
    "from sklearn.model_selection import cross_val_score,train_test_split\n",
    "from sklearn.naive_bayes import GaussianNB\n"
   ]
  },
  {
   "cell_type": "code",
   "execution_count": 31,
   "id": "1af140b2",
   "metadata": {},
   "outputs": [],
   "source": [
    "covid_dataset = pd.read_csv(\"cleaned_normalized_coviddata.csv\")\n",
    "x,x_test,y,y_test = train_test_split(covid_dataset.iloc[:,2:-3],covid_dataset.iloc[:,-3:].astype(int),test_size=0.2,random_state=98)\n"
   ]
  },
  {
   "cell_type": "markdown",
   "id": "e8510c56",
   "metadata": {},
   "source": [
    "### Naive Bayes Implementation"
   ]
  },
  {
   "cell_type": "code",
   "execution_count": 34,
   "id": "d496f276",
   "metadata": {},
   "outputs": [],
   "source": [
    "#Label: Recovered\n",
    "classifier_gaussian_recovered = GaussianNB(var_smoothing = 1e-1)\n",
    "classifier_gaussian_recovered.fit(x,y.loc[:,'Recovered'])\n",
    "scores_nb_recovered = classifier_gaussian_recovered.score(x_test,y_test.loc[:,'Recovered'])\n",
    "#LAbel: Deaths\n",
    "classifier_gaussian_deaths = GaussianNB(var_smoothing = 0.75)\n",
    "classifier_gaussian_deaths.fit(x,y.loc[:,'Deaths'])\n",
    "scores_nb_deaths = classifier_gaussian_deaths.score(x_test,y_test.loc[:,'Deaths'])\n",
    "#Label : Confirmed\n",
    "classifier_gaussian_confirmed = GaussianNB(var_smoothing = 1)\n",
    "classifier_gaussian_confirmed.fit(x,y.loc[:,'Confirmed'])\n",
    "scores_nb_confirmed = classifier_gaussian_confirmed.score(x_test,y_test.loc[:,'Confirmed'])\n",
    "\n"
   ]
  },
  {
   "cell_type": "code",
   "execution_count": 35,
   "id": "4a40cccb",
   "metadata": {},
   "outputs": [
    {
     "name": "stdout",
     "output_type": "stream",
     "text": [
      "0.7210144927536232\n",
      "0.894927536231884\n",
      "0.9456521739130435\n"
     ]
    }
   ],
   "source": [
    "print(scores_nb_recovered.mean())\n",
    "print(scores_nb_deaths.mean())\n",
    "print(scores_nb_confirmed.mean())"
   ]
  },
  {
   "cell_type": "markdown",
   "id": "51184c11",
   "metadata": {},
   "source": [
    "### Decision Tree Implementation"
   ]
  },
  {
   "cell_type": "code",
   "execution_count": 56,
   "id": "4b9d5f29",
   "metadata": {},
   "outputs": [],
   "source": [
    "#Label : Recovered\n",
    "classifier_DecisionTree_recovered = DecisionTreeClassifier(max_depth = 3)\n",
    "classifier_DecisionTree_recovered.fit(x,y.loc[:,'Recovered'])\n",
    "scores_d_recovered = classifier_DecisionTree_recovered.score(x_test,y_test.loc[:,'Recovered'])\n",
    "# Label : Deaths\n",
    "classifier_DecisionTree_deaths= DecisionTreeClassifier(max_depth = 3)\n",
    "classifier_DecisionTree_deaths.fit(x,y.loc[:,'Deaths'])\n",
    "scores_d_deaths = classifier_DecisionTree_deaths.score(x_test,y_test.loc[:,'Deaths'])\n",
    "#Label : Confirmed\n",
    "classifier_DecisionTree_confirmed = DecisionTreeClassifier(max_depth = 3)\n",
    "classifier_DecisionTree_confirmed.fit(x,y.loc[:,'Confirmed'])\n",
    "scores_d_confirmed = classifier_DecisionTree_confirmed.score(x_test,y_test.loc[:,'Confirmed'])\n"
   ]
  },
  {
   "cell_type": "code",
   "execution_count": 57,
   "id": "af161efb",
   "metadata": {},
   "outputs": [
    {
     "name": "stdout",
     "output_type": "stream",
     "text": [
      "0.7862318840579711\n",
      "0.9057971014492754\n",
      "0.9565217391304348\n"
     ]
    }
   ],
   "source": [
    "print(scores_d_recovered.mean())\n",
    "print(scores_d_deaths.mean())\n",
    "print(scores_d_confirmed.mean())"
   ]
  },
  {
   "cell_type": "markdown",
   "id": "10b89532",
   "metadata": {},
   "source": [
    "### From the above accuracy values, it can be inferred that decision tree performs almost similar to gaussian naive bayes"
   ]
  },
  {
   "cell_type": "markdown",
   "id": "0920fe63",
   "metadata": {},
   "source": [
    "## Learning Parameters of NB for data Interpretation and comparision"
   ]
  },
  {
   "cell_type": "code",
   "execution_count": 58,
   "id": "87b43fe6",
   "metadata": {},
   "outputs": [
    {
     "data": {
      "text/html": [
       "<div>\n",
       "<style scoped>\n",
       "    .dataframe tbody tr th:only-of-type {\n",
       "        vertical-align: middle;\n",
       "    }\n",
       "\n",
       "    .dataframe tbody tr th {\n",
       "        vertical-align: top;\n",
       "    }\n",
       "\n",
       "    .dataframe thead th {\n",
       "        text-align: right;\n",
       "    }\n",
       "</style>\n",
       "<table border=\"1\" class=\"dataframe\">\n",
       "  <thead>\n",
       "    <tr style=\"text-align: right;\">\n",
       "      <th></th>\n",
       "      <th>Lat</th>\n",
       "      <th>Long_</th>\n",
       "      <th>Active</th>\n",
       "      <th>Incident_Rate</th>\n",
       "      <th>Total_Test_Results</th>\n",
       "      <th>Case_Fatality_Ratio</th>\n",
       "      <th>Testing_Rate</th>\n",
       "      <th>Resident Population 2020 Census</th>\n",
       "      <th>Population Density 2020 Census</th>\n",
       "      <th>Density Rank 2020 Census</th>\n",
       "      <th>SexRatio</th>\n",
       "    </tr>\n",
       "  </thead>\n",
       "  <tbody>\n",
       "    <tr>\n",
       "      <th>True</th>\n",
       "      <td>2.102807</td>\n",
       "      <td>1.903569</td>\n",
       "      <td>2.025485</td>\n",
       "      <td>0.807028</td>\n",
       "      <td>1.571866</td>\n",
       "      <td>1.141637</td>\n",
       "      <td>1.445363</td>\n",
       "      <td>1.801357</td>\n",
       "      <td>0.354314</td>\n",
       "      <td>1.047409</td>\n",
       "      <td>1.550491</td>\n",
       "    </tr>\n",
       "    <tr>\n",
       "      <th>False</th>\n",
       "      <td>0.526993</td>\n",
       "      <td>0.603241</td>\n",
       "      <td>0.315986</td>\n",
       "      <td>1.233058</td>\n",
       "      <td>0.625900</td>\n",
       "      <td>1.064626</td>\n",
       "      <td>0.914632</td>\n",
       "      <td>0.496507</td>\n",
       "      <td>1.680216</td>\n",
       "      <td>1.092018</td>\n",
       "      <td>0.881031</td>\n",
       "    </tr>\n",
       "  </tbody>\n",
       "</table>\n",
       "</div>"
      ],
      "text/plain": [
       "            Lat     Long_    Active  Incident_Rate  Total_Test_Results  \\\n",
       "True   2.102807  1.903569  2.025485       0.807028            1.571866   \n",
       "False  0.526993  0.603241  0.315986       1.233058            0.625900   \n",
       "\n",
       "       Case_Fatality_Ratio  Testing_Rate  Resident Population 2020 Census  \\\n",
       "True              1.141637      1.445363                         1.801357   \n",
       "False             1.064626      0.914632                         0.496507   \n",
       "\n",
       "       Population Density 2020 Census  Density Rank 2020 Census  SexRatio  \n",
       "True                         0.354314                  1.047409  1.550491  \n",
       "False                        1.680216                  1.092018  0.881031  "
      ]
     },
     "execution_count": 58,
     "metadata": {},
     "output_type": "execute_result"
    }
   ],
   "source": [
    "var = pd.DataFrame()\n",
    "var[0]=(list(list(classifier_gaussian_recovered.sigma_)[0]))\n",
    "var[1]=(list(list(classifier_gaussian_recovered.sigma_)[1]))\n",
    "var.columns = ['True','False']\n",
    "var.index = list(x.columns)\n",
    "var.T"
   ]
  },
  {
   "cell_type": "markdown",
   "id": "6cd46dc0",
   "metadata": {},
   "source": [
    "### These represent the variance between two classes of Label recovered"
   ]
  },
  {
   "cell_type": "code",
   "execution_count": 61,
   "id": "bd18aae9",
   "metadata": {},
   "outputs": [
    {
     "data": {
      "text/html": [
       "<div>\n",
       "<style scoped>\n",
       "    .dataframe tbody tr th:only-of-type {\n",
       "        vertical-align: middle;\n",
       "    }\n",
       "\n",
       "    .dataframe tbody tr th {\n",
       "        vertical-align: top;\n",
       "    }\n",
       "\n",
       "    .dataframe thead th {\n",
       "        text-align: right;\n",
       "    }\n",
       "</style>\n",
       "<table border=\"1\" class=\"dataframe\">\n",
       "  <thead>\n",
       "    <tr style=\"text-align: right;\">\n",
       "      <th></th>\n",
       "      <th>Lat</th>\n",
       "      <th>Long_</th>\n",
       "      <th>Active</th>\n",
       "      <th>Incident_Rate</th>\n",
       "      <th>Total_Test_Results</th>\n",
       "      <th>Case_Fatality_Ratio</th>\n",
       "      <th>Testing_Rate</th>\n",
       "      <th>Resident Population 2020 Census</th>\n",
       "      <th>Population Density 2020 Census</th>\n",
       "      <th>Density Rank 2020 Census</th>\n",
       "      <th>SexRatio</th>\n",
       "    </tr>\n",
       "  </thead>\n",
       "  <tbody>\n",
       "    <tr>\n",
       "      <th>True</th>\n",
       "      <td>-0.222705</td>\n",
       "      <td>-0.274367</td>\n",
       "      <td>0.277679</td>\n",
       "      <td>-0.182613</td>\n",
       "      <td>0.192396</td>\n",
       "      <td>0.079321</td>\n",
       "      <td>0.113771</td>\n",
       "      <td>0.233726</td>\n",
       "      <td>-0.080190</td>\n",
       "      <td>-0.237497</td>\n",
       "      <td>-0.119118</td>\n",
       "    </tr>\n",
       "    <tr>\n",
       "      <th>False</th>\n",
       "      <td>0.156457</td>\n",
       "      <td>0.143668</td>\n",
       "      <td>-0.210219</td>\n",
       "      <td>0.134183</td>\n",
       "      <td>-0.146766</td>\n",
       "      <td>-0.074567</td>\n",
       "      <td>-0.033171</td>\n",
       "      <td>-0.173113</td>\n",
       "      <td>0.065903</td>\n",
       "      <td>0.149274</td>\n",
       "      <td>0.107242</td>\n",
       "    </tr>\n",
       "  </tbody>\n",
       "</table>\n",
       "</div>"
      ],
      "text/plain": [
       "            Lat     Long_    Active  Incident_Rate  Total_Test_Results  \\\n",
       "True  -0.222705 -0.274367  0.277679      -0.182613            0.192396   \n",
       "False  0.156457  0.143668 -0.210219       0.134183           -0.146766   \n",
       "\n",
       "       Case_Fatality_Ratio  Testing_Rate  Resident Population 2020 Census  \\\n",
       "True              0.079321      0.113771                         0.233726   \n",
       "False            -0.074567     -0.033171                        -0.173113   \n",
       "\n",
       "       Population Density 2020 Census  Density Rank 2020 Census  SexRatio  \n",
       "True                        -0.080190                 -0.237497 -0.119118  \n",
       "False                        0.065903                  0.149274  0.107242  "
      ]
     },
     "execution_count": 61,
     "metadata": {},
     "output_type": "execute_result"
    }
   ],
   "source": [
    "mean = pd.DataFrame()\n",
    "mean[0]=(list(list(classifier_gaussian_recovered.theta_)[0]))\n",
    "mean[1]=(list(list(classifier_gaussian_recovered.theta_)[1]))\n",
    "mean.columns = ['True','False']\n",
    "mean.index = list(x.columns)\n",
    "mean.T"
   ]
  },
  {
   "cell_type": "markdown",
   "id": "2c151cd5",
   "metadata": {},
   "source": [
    "### These represent the mean of the two classes of label : recovered"
   ]
  },
  {
   "cell_type": "code",
   "execution_count": null,
   "id": "97e6a62d",
   "metadata": {},
   "outputs": [],
   "source": [
    "import graphviz\n",
    "from sklearn import tree\n",
    "dot_data = tree.export_graphviz(classifier_DecisionTree_recovered,out_file = None,\n",
    "                               feature_names = x.columns,\n",
    "                               class_names = 'Recovered',\n",
    "                               filled = True, rounded = True,\n",
    "                               special_characters = True)\n",
    "graph = graphviz.Source(dot_data)\n",
    "graph"
   ]
  },
  {
   "cell_type": "markdown",
   "id": "499b59e7",
   "metadata": {},
   "source": [
    "## Inferences from learned parameters"
   ]
  },
  {
   "cell_type": "markdown",
   "id": "d6424e7b",
   "metadata": {},
   "source": [
    "### The Long_ feature of 'False' class has very high variance and low mean. This plays a very crutial role in decision making to classify 'False' from the other parameters. Similarly from the above graph of decision trees, the Long_ becomes the head node and child nodes are created for the 'False' category. Thus from the above parameters it can be inferred that the decision making process of naive bayes and decision trees are similar though the parameters and calculations are different "
   ]
  },
  {
   "cell_type": "code",
   "execution_count": null,
   "id": "901cd3e5",
   "metadata": {},
   "outputs": [],
   "source": []
  }
 ],
 "metadata": {
  "kernelspec": {
   "display_name": "Python 3",
   "language": "python",
   "name": "python3"
  },
  "language_info": {
   "codemirror_mode": {
    "name": "ipython",
    "version": 3
   },
   "file_extension": ".py",
   "mimetype": "text/x-python",
   "name": "python",
   "nbconvert_exporter": "python",
   "pygments_lexer": "ipython3",
   "version": "3.8.8"
  }
 },
 "nbformat": 4,
 "nbformat_minor": 5
}
